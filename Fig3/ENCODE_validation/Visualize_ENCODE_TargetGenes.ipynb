{
 "cells": [
  {
   "cell_type": "code",
   "execution_count": 3,
   "id": "alternative-train",
   "metadata": {},
   "outputs": [],
   "source": [
    "import pandas as pd\n",
    "import matplotlib.pyplot as plt\n",
    "from matplotlib.colors import LinearSegmentedColormap\n",
    "import numpy as np\n",
    "import matplotlib\n",
    "import seaborn as sns\n",
    "import matplotlib.cm as cm\n",
    "import matplotlib as mpl\n",
    "from matplotlib.gridspec import GridSpec\n",
    "mpl.rcParams['pdf.fonttype'] = 42\n",
    "mpl.rcParams['ps.fonttype'] = 42\n",
    "import statsmodels.formula.api as smf\n",
    "from decimal import Decimal"
   ]
  },
  {
   "cell_type": "code",
   "execution_count": 4,
   "id": "graphic-transmission",
   "metadata": {},
   "outputs": [],
   "source": [
    "meta = pd.read_csv(\"tab\"\", index_col=0)\n",
    "meta[\"# of target genes (SCINEIC)\"] = meta[\"Gene\"].apply(lambda x: len(x.split(\";\")))\n",
    "meta[\"% of target genes with ChIP-seq peaks\"] = meta[\"number_of_Target_Genes_chip\"]/meta[\"# of target genes (SCINEIC)\"]*100\n",
    "meta[\"# of biosample (ENCODE)\"] = meta[\"Biosample.term.name\"].apply(lambda x: len(x.split(\",\")))\n",
    "meta = meta.sort_values(\"% of target genes with ChIP-seq peaks\", ascending=False)\n",
    "meta = meta.reset_index().drop(\"index\", axis=1).reset_index()"
   ]
  },
  {
   "cell_type": "code",
   "execution_count": 5,
   "id": "discrete-mouse",
   "metadata": {},
   "outputs": [
    {
     "data": {
      "image/png": "[encoded data removed]",
      "text/plain": [
       "<Figure size 396x86.4 with 1 Axes>"
      ]
     },
     "metadata": {
      "needs_background": "light"
     },
     "output_type": "display_data"
    }
   ],
   "source": [
    "plt.rcParams[\"figure.figsize\"] = (5.5,1.2)\n",
    "plt.rcParams.update({'font.size': 6})\n",
    "meta_colors = {1: \"#f7fcf0\", 2: \"#e0f3db\", 3: \"#ccebc5\", 4:\"#a8ddb5\", \n",
    "               5: \"#7bccc4\", 7:\"#2b8cbe\", 8:\"#0868ac\", 10:\"#084081\"}\n",
    "\n",
    "c = meta['# of biosample (ENCODE)'].apply(lambda x: meta_colors[x])\n",
    "plt.bar(meta[\"Target.gene.symbol\"], meta[\"% of target genes with ChIP-seq peaks\"], color=c)\n",
    "plt.xticks(rotation = 90)\n",
    "plt.ylabel('Target genes with ChIP-seq peaks\\nat TSS+-5kb (%)')\n",
    "labels = list(meta_colors.keys())\n",
    "handles = [plt.Rectangle((0,0),1,1, color=meta_colors[label]) for label in labels]\n",
    "plt.legend(handles, labels, title=\"# of ENCODE\\nChIP-seq assays\", ncol=2)\n",
    "plt.savefig(\"Fig4f.pdf\", bbox_inches='tight')"
   ]
  },
  {
   "cell_type": "code",
   "execution_count": null,
   "id": "intense-tumor",
   "metadata": {},
   "outputs": [],
   "source": []
  }
 ],
 "metadata": {
  "kernelspec": {
   "display_name": "Python 3",
   "language": "python",
   "name": "python3"
  },
  "language_info": {
   "codemirror_mode": {
    "name": "ipython",
    "version": 3
   },
   "file_extension": ".py",
   "mimetype": "text/x-python",
   "name": "python",
   "nbconvert_exporter": "python",
   "pygments_lexer": "ipython3",
   "version": "3.7.3"
  }
 },
 "nbformat": 4,
 "nbformat_minor": 5
}
